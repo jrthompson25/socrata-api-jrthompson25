{
 "cells": [
  {
   "cell_type": "code",
   "execution_count": null,
   "id": "df59d3e9",
   "metadata": {},
   "outputs": [],
   "source": [
    "import requests\n",
    "import matplotlib.pyplot as plt\n",
    "import json\n",
    "import pandas as pd"
   ]
  },
  {
   "cell_type": "code",
   "execution_count": null,
   "id": "e9128622",
   "metadata": {},
   "outputs": [],
   "source": [
    "endpoint = 'https://data.nashville.gov/resource/fuaa-r5cm.json'\n",
    "response = requests.get(endpoint)"
   ]
  },
  {
   "cell_type": "code",
   "execution_count": null,
   "id": "79fc8541",
   "metadata": {},
   "outputs": [],
   "source": [
    "response"
   ]
  },
  {
   "cell_type": "code",
   "execution_count": null,
   "id": "08a21e7c",
   "metadata": {},
   "outputs": [],
   "source": [
    "response.text"
   ]
  },
  {
   "cell_type": "code",
   "execution_count": null,
   "id": "1b1ac6f7",
   "metadata": {},
   "outputs": [],
   "source": [
    "res = response.json()\n",
    "res"
   ]
  },
  {
   "cell_type": "code",
   "execution_count": null,
   "id": "a66c0d6c",
   "metadata": {},
   "outputs": [],
   "source": [
    "#1\n",
    "endpoint = 'https://data.nashville.gov/resource/fuaa-r5cm.json?year=2016&query_text=fire&$limit=50000'\n",
    "response = requests.get(endpoint)\n",
    "resFire = response.text\n",
    "resFire = response.json()\n",
    "resFire"
   ]
  },
  {
   "cell_type": "markdown",
   "id": "accf0cfe",
   "metadata": {},
   "source": [
    "#1 Answer: August had the most searches with 47"
   ]
  },
  {
   "cell_type": "code",
   "execution_count": null,
   "id": "864e69ba",
   "metadata": {},
   "outputs": [],
   "source": [
    "#2\n",
    "endpoint = 'https://data.nashville.gov/resource/fuaa-r5cm.json?$where=query_count>100&$limit=50000'\n",
    "response = requests.get(endpoint)\n",
    "res100plus = response.text\n",
    "res100plus = response.json()\n",
    "res100plus"
   ]
  },
  {
   "cell_type": "code",
   "execution_count": null,
   "id": "7fc6ae18",
   "metadata": {
    "scrolled": true
   },
   "outputs": [],
   "source": [
    "#2 continued\n",
    "moreThan100 = len(res100plus)\n",
    "moreThan100\n",
    "\n",
    "#This number may be inaccurate because by default, the api only allows 1000 rows at a time to pass through"
   ]
  },
  {
   "cell_type": "markdown",
   "id": "3e25560d",
   "metadata": {},
   "source": [
    "#2 Answer: The amount of times a query was ran over 100 times is 1262"
   ]
  },
  {
   "cell_type": "code",
   "execution_count": null,
   "id": "003a02fa",
   "metadata": {},
   "outputs": [],
   "source": [
    "#3\n",
    "endpoint = 'https://data.nashville.gov/resource/fuaa-r5cm.json?query_text=codes&$where=query_count>100&$limit=50000'\n",
    "response = requests.get(endpoint)\n",
    "resCodes = response.text\n",
    "resCodes = response.json()\n",
    "resCodes"
   ]
  },
  {
   "cell_type": "code",
   "execution_count": null,
   "id": "d960a5d6",
   "metadata": {},
   "outputs": [],
   "source": [
    "#3 Continued\n",
    "codesMoreThan100 = len(resCodes)\n",
    "codesMoreThan100"
   ]
  },
  {
   "cell_type": "markdown",
   "id": "9ed17dd8",
   "metadata": {},
   "source": [
    "#3 Answer: Codes was searched more than 100 times in a month 56 times"
   ]
  },
  {
   "cell_type": "code",
   "execution_count": null,
   "id": "9f1ecdc4",
   "metadata": {},
   "outputs": [],
   "source": [
    "#4 -- This one still needs some work\n",
    "endpoint = 'https://data.nashville.gov/resource/fuaa-r5cm.json?$select=month_name,SUM(query_count)&query_text=maps&$group=month_name&$order=SUM(query_count)&$limit=50000'\n",
    "response = requests.get(endpoint)\n",
    "resCodes = response.json()\n",
    "resCodes_df = pd.DataFrame(resCodes)\n",
    "resCodes_df"
   ]
  },
  {
   "cell_type": "code",
   "execution_count": null,
   "id": "5550d5af",
   "metadata": {},
   "outputs": [],
   "source": [
    "#4 continued\n",
    "response"
   ]
  },
  {
   "cell_type": "code",
   "execution_count": null,
   "id": "6862ff44",
   "metadata": {},
   "outputs": [],
   "source": [
    "#4 continued\n",
    "plt.figure(figsize = (15, 5))\n",
    "plt.bar(resCodes_df.month_name, resCodes_df.SUM_query_count)\n",
    "plt.xlabel('Month')\n",
    "plt.ylabel('Query Count for Maps');\n",
    "\n",
    "\n"
   ]
  },
  {
   "cell_type": "code",
   "execution_count": null,
   "id": "92fcbfe6",
   "metadata": {},
   "outputs": [],
   "source": [
    "#5\n",
    "endpoint = 'https://data.nashville.gov/resource/7qhx-rexh.json?'\n",
    "response = requests.get(endpoint)\n",
    "newRes = response.text\n",
    "newRes = response.json()\n",
    "newRes"
   ]
  },
  {
   "cell_type": "code",
   "execution_count": null,
   "id": "bc9b49fb",
   "metadata": {},
   "outputs": [],
   "source": [
    "#5 continued\n",
    "newRes_df = pd.DataFrame(newRes)\n",
    "newRes_df"
   ]
  },
  {
   "cell_type": "markdown",
   "id": "f17a3c84",
   "metadata": {},
   "source": [
    "#5 Answer: This dataset is much larger than the searches one. It is much more complex, not only because of it's size but because of the detail that the info in the cells gives. Plus, the date information is not split up into multiple columns like on the searches dataset. "
   ]
  },
  {
   "cell_type": "code",
   "execution_count": null,
   "id": "0b3cf8d5",
   "metadata": {},
   "outputs": [],
   "source": [
    "#6\n",
    "traffEndpoint = 'https://data.nashville.gov/resource/6v6w-hpcw.json'\n",
    "response = requests.get(traffEndpoint)\n",
    "trafficAcc = response.text\n",
    "trafficAcc = response.json()\n",
    "trafficAcc_df = pd.DataFrame(trafficAcc)\n",
    "trafficAcc_df"
   ]
  },
  {
   "cell_type": "code",
   "execution_count": null,
   "id": "8d1d6c70",
   "metadata": {},
   "outputs": [],
   "source": [
    "#6 continued\n",
    "trafficAcc_df.rename(columns = {'zip':'zip_code'}, inplace = True)\n",
    "trafficAcc_df.head()"
   ]
  },
  {
   "cell_type": "code",
   "execution_count": null,
   "id": "eaa4cbf0",
   "metadata": {},
   "outputs": [],
   "source": [
    "#6 continued \n",
    "trafficAcc_df.info()"
   ]
  },
  {
   "cell_type": "code",
   "execution_count": null,
   "id": "4b4b423e",
   "metadata": {},
   "outputs": [],
   "source": [
    "#6 continued\n",
    "policeEndpoint = 'https://data.nashville.gov/resource/y5ik-ut5s.json'\n",
    "response = requests.get(policeEndpoint)\n",
    "policePre = response.text\n",
    "policePre = response.json()\n",
    "policePre_df = pd.DataFrame(policePre)\n",
    "policePre_df"
   ]
  },
  {
   "cell_type": "code",
   "execution_count": null,
   "id": "c20d9765",
   "metadata": {},
   "outputs": [],
   "source": [
    "#6 continued\n",
    "police_and_accid_df = pd.merge(trafficAcc_df, policePre_df, how='left', on='zip_code')\n",
    "police_and_accid_df.head()"
   ]
  },
  {
   "cell_type": "code",
   "execution_count": null,
   "id": "4993851d",
   "metadata": {},
   "outputs": [],
   "source": [
    "police_and_accid_df.info()"
   ]
  }
 ],
 "metadata": {
  "kernelspec": {
   "display_name": "Python 3 (ipykernel)",
   "language": "python",
   "name": "python3"
  },
  "language_info": {
   "codemirror_mode": {
    "name": "ipython",
    "version": 3
   },
   "file_extension": ".py",
   "mimetype": "text/x-python",
   "name": "python",
   "nbconvert_exporter": "python",
   "pygments_lexer": "ipython3",
   "version": "3.9.7"
  }
 },
 "nbformat": 4,
 "nbformat_minor": 5
}
